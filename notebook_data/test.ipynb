{
 "cells": [
  {
   "cell_type": "code",
   "execution_count": 1,
   "id": "dab5666d-ba7c-4315-bc9a-206e0ca4a77d",
   "metadata": {},
   "outputs": [],
   "source": [
    "from pyspark.sql import SparkSession\n",
    "from pyspark.sql.types import StructType, StructField, StringType"
   ]
  },
  {
   "cell_type": "code",
   "execution_count": 2,
   "id": "f5b3f0ac-da0e-48a3-b08b-a2504716c2f1",
   "metadata": {},
   "outputs": [],
   "source": [
    "spark = SparkSession.builder \\\n",
    "    .appName(\"example-app\") \\\n",
    "    .getOrCreate()"
   ]
  },
  {
   "cell_type": "code",
   "execution_count": 3,
   "id": "05e081b1-67ee-4b66-8f10-55439ad4c0e8",
   "metadata": {},
   "outputs": [],
   "source": [
    "data = [(\"James\", \"Smith\"), (\"Anna\", \"Rose\"), (\"Robert\", \"Williams\")]\n",
    "columns = [\"FirstName\", \"LastName\"]\n"
   ]
  },
  {
   "cell_type": "code",
   "execution_count": 4,
   "id": "4290e2f7-1b1e-4c95-875d-ac8ccffac74e",
   "metadata": {},
   "outputs": [],
   "source": [
    "schema = StructType([\n",
    "    StructField(\"FirstName\", StringType(), True),\n",
    "    StructField(\"LastName\", StringType(), True)\n",
    "])\n"
   ]
  },
  {
   "cell_type": "code",
   "execution_count": 5,
   "id": "2315a400-a4aa-4d13-8475-f7bc6857a0b8",
   "metadata": {},
   "outputs": [
    {
     "name": "stdout",
     "output_type": "stream",
     "text": [
      "+---------+--------+\n",
      "|FirstName|LastName|\n",
      "+---------+--------+\n",
      "|    James|   Smith|\n",
      "|     Anna|    Rose|\n",
      "|   Robert|Williams|\n",
      "+---------+--------+\n",
      "\n"
     ]
    }
   ],
   "source": [
    "df = spark.createDataFrame(data, schema)\n",
    "df.show()"
   ]
  },
  {
   "cell_type": "code",
   "execution_count": 6,
   "id": "5205794f-dab0-45ba-a390-b9e3a3209601",
   "metadata": {},
   "outputs": [],
   "source": [
    "spark.stop()"
   ]
  },
  {
   "cell_type": "code",
   "execution_count": 7,
   "id": "b2ec1a4c-952c-42c6-aa2f-7eb58c707ceb",
   "metadata": {},
   "outputs": [
    {
     "name": "stdout",
     "output_type": "stream",
     "text": [
      "Requirement already satisfied: psycopg2-binary in /opt/conda/lib/python3.11/site-packages (2.9.9)\n"
     ]
    }
   ],
   "source": [
    "!pip install psycopg2-binary"
   ]
  },
  {
   "cell_type": "code",
   "execution_count": 8,
   "id": "74d80af1-3251-4293-b343-1e0659c7e350",
   "metadata": {},
   "outputs": [
    {
     "name": "stdout",
     "output_type": "stream",
     "text": [
      "(1, 'James', 'Smith')\n",
      "(2, 'Anna', 'Rose')\n",
      "(3, 'Robert', 'Williams')\n"
     ]
    }
   ],
   "source": [
    "import psycopg2\n",
    "\n",
    "conn_params = {\n",
    "    \"dbname\": \"db\",\n",
    "    \"user\": \"postgres\",\n",
    "    \"password\": \"12345\",\n",
    "    \"host\": \"pg_container\",\n",
    "    \"port\": 5432\n",
    "}\n",
    "\n",
    "conn = psycopg2.connect(**conn_params)\n",
    "cursor = conn.cursor()\n",
    "\n",
    "cursor.execute(\"\"\"\n",
    "CREATE TABLE IF NOT EXISTS test_table (\n",
    "    id SERIAL PRIMARY KEY,\n",
    "    first_name VARCHAR(50),\n",
    "    last_name VARCHAR(50)\n",
    ")\n",
    "\"\"\")\n",
    "conn.commit()\n",
    "\n",
    "cursor.execute(\"\"\"\n",
    "INSERT INTO test_table (first_name, last_name)\n",
    "VALUES (%s, %s), (%s, %s), (%s, %s)\n",
    "\"\"\", ('James', 'Smith', 'Anna', 'Rose', 'Robert', 'Williams'))\n",
    "conn.commit()\n",
    "\n",
    "cursor.execute(\"SELECT * FROM test_table\")\n",
    "rows = cursor.fetchall()\n",
    "for row in rows:\n",
    "    print(row)\n",
    "\n",
    "cursor.close()\n",
    "conn.close()\n"
   ]
  }
 ],
 "metadata": {
  "kernelspec": {
   "display_name": "Python 3 (ipykernel)",
   "language": "python",
   "name": "python3"
  },
  "language_info": {
   "codemirror_mode": {
    "name": "ipython",
    "version": 3
   },
   "file_extension": ".py",
   "mimetype": "text/x-python",
   "name": "python",
   "nbconvert_exporter": "python",
   "pygments_lexer": "ipython3",
   "version": "3.11.6"
  }
 },
 "nbformat": 4,
 "nbformat_minor": 5
}
